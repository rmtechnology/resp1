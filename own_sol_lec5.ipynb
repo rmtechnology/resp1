{
 "cells": [
  {
   "cell_type": "code",
   "execution_count": 1,
   "id": "6a3b99b2-1b96-4cb5-995f-7515e7516fdc",
   "metadata": {},
   "outputs": [],
   "source": [
    "import numpy as np\n",
    "import matplotlib.pyplot as plt\n",
    "import os\n",
    "import subprocess"
   ]
  },
  {
   "cell_type": "code",
   "execution_count": 2,
   "id": "0972ca1c-7992-49eb-94c1-d1d0c2c008a8",
   "metadata": {},
   "outputs": [],
   "source": [
    "def two_d_gauss(x,dx, y, dy,ampl):\n",
    "    return ampl*np.exp(-x**2/dx**2 + -y**2/dy**2)\n"
   ]
  },
  {
   "cell_type": "code",
   "execution_count": 3,
   "id": "9e977b51-ecd6-46d5-94c7-05ba5e5d5808",
   "metadata": {},
   "outputs": [],
   "source": [
    "inc=0.1\n",
    "x=np.arange(-5, 5, inc)\n",
    "y=np.arange(-5, 5, inc)\n",
    "X,Y = np.meshgrid(x,y)"
   ]
  },
  {
   "cell_type": "code",
   "execution_count": 4,
   "id": "db828f3c-0473-4885-aee3-e5f2f6a475a0",
   "metadata": {},
   "outputs": [],
   "source": [
    "ampl=1\n",
    "folder=\"output/\"\n",
    "\n",
    "for i in range(0, 100):\n",
    "    sigma=0.1+np.sqrt(i)\n",
    "    data=two_d_gauss(X,sigma,Y,sigma,ampl)\n",
    "\n",
    "    fig = plt.figure()\n",
    "    plt.pcolor(data, shading='auto')\n",
    "    plt.xlabel(r\"$\\boldsymbol{y}$\")\n",
    "    plt.ylabel(r\"$\\boldsymbol{y}$\")\n",
    "    ##print(i)\n",
    "    file_str = f\"{i:04d}_{ampl:1.2f}_{sigma:05.2f}\"\n",
    "    file_str = f\"{i:04d}\"\n",
    "    var=i\n",
    "    var2=np.sum(data)\n",
    "    ##file_str=(\"%04u_%04.2f\" % (var,var2))\n",
    "    type(file_str)\n",
    "    ##file_str=\"Hallo Welt3\"\n",
    "    plt.savefig(folder+file_str + \".png\")\n",
    "    plt.close()"
   ]
  },
  {
   "cell_type": "code",
   "execution_count": 5,
   "id": "c961360f-9576-4236-a547-e15719a3ab17",
   "metadata": {},
   "outputs": [
    {
     "name": "stdout",
     "output_type": "stream",
     "text": [
      "0005 0005\n",
      "Geeks :  1, Portal :  5.33\n"
     ]
    }
   ],
   "source": [
    "var=5\n",
    "var2=5\n",
    "file_str=print(\"%04u %04u\" % (var,var2))\n",
    "print(\"Geeks : %2d, Portal : %5.2f\" % (1, 05.333))\n"
   ]
  },
  {
   "cell_type": "code",
   "execution_count": 6,
   "id": "8c0bf8e8-c93c-43b6-8d29-7451d8f16b35",
   "metadata": {},
   "outputs": [],
   "source": [
    "os.chdir('./output/')\n",
    "subprocess.call('ffmpeg  -i %04d.png  -vcodec libx264 -r 30 -preset ultrafast -crf 18 -y -s 1920x1080 gaussians_ultrafast.mp4', shell=True)\n",
    "os.chdir('..')\n"
   ]
  },
  {
   "cell_type": "code",
   "execution_count": null,
   "id": "2f69b9aa-a306-4ee0-bc89-9dec510ad791",
   "metadata": {},
   "outputs": [],
   "source": []
  },
  {
   "cell_type": "code",
   "execution_count": null,
   "id": "f7f0b9e7-8efe-4902-bbfc-25c6b5f8edd2",
   "metadata": {},
   "outputs": [],
   "source": []
  }
 ],
 "metadata": {
  "kernelspec": {
   "display_name": "Python 3 (ipykernel)",
   "language": "python",
   "name": "python3"
  },
  "language_info": {
   "codemirror_mode": {
    "name": "ipython",
    "version": 3
   },
   "file_extension": ".py",
   "mimetype": "text/x-python",
   "name": "python",
   "nbconvert_exporter": "python",
   "pygments_lexer": "ipython3",
   "version": "3.12.4"
  }
 },
 "nbformat": 4,
 "nbformat_minor": 5
}
