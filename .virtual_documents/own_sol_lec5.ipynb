import numpy as np
import matplotlib.pyplot as plt
import os
import subprocess


def two_d_gauss(x,dx, y, dy,ampl):
    return ampl*np.exp(-x**2/dx**2 + -y**2/dy**2)


inc=0.1
x=np.arange(-5, 5, inc)
y=np.arange(-5, 5, inc)
X,Y = np.meshgrid(x,y)


ampl=1
folder="output/"

for i in range(0, 100):
    sigma=0.1+np.sqrt(i)
    data=two_d_gauss(X,sigma,Y,sigma,ampl)

    fig = plt.figure()
    plt.pcolor(data, shading='auto')
    plt.xlabel(r"$\boldsymbol{y}$")
    plt.ylabel(r"$\boldsymbol{y}$")
    ##print(i)
    file_str = f"{i:04d}_{ampl:1.2f}_{sigma:05.2f}"
    file_str = f"{i:04d}"
    var=i
    var2=np.sum(data)
    ##file_str=("%04u_%04.2f" % (var,var2))
    type(file_str)
    ##file_str="Hallo Welt3"
    plt.savefig(folder+file_str + ".png")
    plt.close()


os.chdir('./output/')
subprocess.call('ffmpeg  -i %04d.png  -vcodec libx264 -r 30 -preset ultrafast -crf 18 -y -s 1920x1080 gaussians_ultrafast.mp4', shell=True)
os.chdir('..')






var1=3.3333333
var2="Hallo Welt"
str_line=("var1 : %2.1f, var2 : %s" % (var1, var2))
print(">" +str_line +"<")


var1=3.3333333
var2="Hallo Welt"
str_line=f"var1 {var1:2.1f} var2: {var2:s}"
print(">" +str_line +"<")
int("1")
